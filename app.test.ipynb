{
 "cells": [
  {
   "cell_type": "code",
   "execution_count": 4,
   "metadata": {},
   "outputs": [
    {
     "name": "stdout",
     "output_type": "stream",
     "text": [
      "リコメンドされた絵本:\n",
      "                                           title      author publisherName  \\\n",
      "1497                                みつけて！どうぶつどこ？     shimizu        マイナビ出版   \n",
      "1258  ぺたっと　くっつく！　マグネットえほん　いないいないばあっ！　わくわく　どうぶつえん         講談社           講談社   \n",
      "1450  ぺたっ！と　くっつく　マグネットえほん　いないいないばあっ！　わくわく　どうぶつえん         講談社           講談社   \n",
      "1608                                     どうぶつえほん   古川正和/本信公久           偕成社   \n",
      "1336                               びっくり！どうぶつデパート  サトシン/杉山佳奈代          アリス館   \n",
      "\n",
      "      itemPrice     salesDate  \n",
      "1497       1430  2023年03月16日頃  \n",
      "1258       1320  2023年05月17日頃  \n",
      "1450       1078    2021年1月19日  \n",
      "1608       1210       2009年9月  \n",
      "1336       1430       2013年5月  \n"
     ]
    }
   ],
   "source": [
    "import pandas as pd\n",
    "\n",
    "# CSVファイルのパスを指定（例: CSVファイルが同じディレクトリに保存されている場合）\n",
    "csv_file_path = \"output_with_all_keywords.csv\"\n",
    "\n",
    "# CSVファイルを読み込む\n",
    "df = pd.read_csv(csv_file_path)\n",
    "\n",
    "# キーワードのリスト（後半の列名）\n",
    "keywords = [\"どうぶつ\", \"きょうりゅう\", \"いぬ\", \"ねこ\", \"のりもの\", \n",
    "            \"むし\", \"おばけ\", \"あんぱんまん\", \"そら\", \"まほう\"]\n",
    "\n",
    "# 追加のキーワードリスト\n",
    "additional_keywords = [\"わくわく\", \"どきどき\", \"いらいら\", \"きらきら\", \"楽しい\", \n",
    "                       \"かわいい\", \"シリーズ\", \"世界\", \"もの\", \"シール\", \"登場\"]\n",
    "\n",
    "# ここでは例として、ユーザーが選択したキーワードを使います\n",
    "selected_keyword1 = \"どうぶつ\"  # 例: ユーザーが選んだ1つ目のキーワード\n",
    "selected_keyword2 = \"わくわく\"  # 例: ユーザーが選んだ2つ目の追加キーワード\n",
    "\n",
    "# キーワード1と追加のキーワード列が存在するか確認\n",
    "if selected_keyword1 in df.columns and selected_keyword2 in df.columns:\n",
    "    # 2つのキーワードに1が入っているデータをフィルタリング\n",
    "    filtered_df = df[(df[selected_keyword1] == 1) & (df[selected_keyword2] == 1)]\n",
    "    \n",
    "    # レビュー点数が高いものを5つ抽出\n",
    "    if not filtered_df.empty:\n",
    "        # 'reviewAverage' 列に基づいて降順でソートし、上位5件を表示\n",
    "        top_5_recommended = filtered_df.sort_values(by='reviewAverage', ascending=False).head(5)\n",
    "        \n",
    "        # リコメンドデータを表示（必要な列のみ表示）\n",
    "        print(\"リコメンドされた絵本:\")\n",
    "        print(top_5_recommended[['title', 'author', 'publisherName', 'itemPrice', 'salesDate']])\n",
    "    else:\n",
    "        print(\"指定されたキーワードに一致するデータがありません。\")\n",
    "else:\n",
    "    print(f\"選択されたキーワード '{selected_keyword1}' または '{selected_keyword2}' がデータに含まれていません。\")\n",
    "\n"
   ]
  },
  {
   "cell_type": "code",
   "execution_count": null,
   "metadata": {},
   "outputs": [
    {
     "name": "stderr",
     "output_type": "stream",
     "text": [
      "2025-04-19 18:20:25.278 Thread 'MainThread': missing ScriptRunContext! This warning can be ignored when running in bare mode.\n",
      "2025-04-19 18:20:25.279 Thread 'MainThread': missing ScriptRunContext! This warning can be ignored when running in bare mode.\n",
      "2025-04-19 18:20:25.279 Thread 'MainThread': missing ScriptRunContext! This warning can be ignored when running in bare mode.\n",
      "2025-04-19 18:20:25.279 Thread 'MainThread': missing ScriptRunContext! This warning can be ignored when running in bare mode.\n",
      "2025-04-19 18:20:25.296 Thread 'MainThread': missing ScriptRunContext! This warning can be ignored when running in bare mode.\n",
      "2025-04-19 18:20:25.296 Thread 'MainThread': missing ScriptRunContext! This warning can be ignored when running in bare mode.\n",
      "2025-04-19 18:20:25.299 Thread 'MainThread': missing ScriptRunContext! This warning can be ignored when running in bare mode.\n",
      "2025-04-19 18:20:25.299 Thread 'MainThread': missing ScriptRunContext! This warning can be ignored when running in bare mode.\n",
      "2025-04-19 18:20:25.300 Thread 'MainThread': missing ScriptRunContext! This warning can be ignored when running in bare mode.\n",
      "2025-04-19 18:20:25.300 Thread 'MainThread': missing ScriptRunContext! This warning can be ignored when running in bare mode.\n",
      "2025-04-19 18:20:25.302 Thread 'MainThread': missing ScriptRunContext! This warning can be ignored when running in bare mode.\n",
      "2025-04-19 18:20:25.303 Thread 'MainThread': missing ScriptRunContext! This warning can be ignored when running in bare mode.\n",
      "2025-04-19 18:20:25.303 Thread 'MainThread': missing ScriptRunContext! This warning can be ignored when running in bare mode.\n",
      "2025-04-19 18:20:25.303 Thread 'MainThread': missing ScriptRunContext! This warning can be ignored when running in bare mode.\n",
      "2025-04-19 18:20:25.303 Thread 'MainThread': missing ScriptRunContext! This warning can be ignored when running in bare mode.\n",
      "2025-04-19 18:20:25.303 Thread 'MainThread': missing ScriptRunContext! This warning can be ignored when running in bare mode.\n",
      "2025-04-19 18:20:25.304 Thread 'MainThread': missing ScriptRunContext! This warning can be ignored when running in bare mode.\n",
      "2025-04-19 18:20:25.304 Thread 'MainThread': missing ScriptRunContext! This warning can be ignored when running in bare mode.\n"
     ]
    }
   ],
   "source": [
    "# キーワードのリスト\n",
    "keywords = [\"どうぶつ\", \"きょうりゅう\", \"いぬ\", \"ねこ\", \"のりもの\", \n",
    "            \"むし\", \"おばけ\", \"あんぱんまん\", \"そら\", \"まほう\"]\n",
    "\n",
    "# ドロップダウン（セレクトボックス）を作成\n",
    "selected_keyword = st.selectbox(\"キーワードを選択してください:\", keywords)\n",
    "\n",
    "# 選択されたキーワードを表示\n",
    "st.write(f\"選択されたキーワード: {selected_keyword}\")\n",
    "# 残りのキーワードのリスト\n",
    "additional_keywords = [\"わくわく\", \"どきどき\", \"いらいら\", \"きらきら\", \"楽しい\", \n",
    "                       \"かわいい\", \"シリーズ\", \"世界\", \"もの\", \"シール\", \"登場\"]\n",
    "\n",
    "# ドロップダウン（セレクトボックス）を作成\n",
    "selected_additional_keyword = st.selectbox(\"追加のキーワードを選択してください:\", additional_keywords)\n",
    "\n",
    "# 選択された追加キーワードを表示\n",
    "st.write(f\"選択された追加キーワード: {selected_additional_keyword}\")\n",
    "# キーワードが含まれているかを確認し、レビューの平均値でフィルタリング\n",
    "if selected_keyword in df.columns and selected_additional_keyword in df.columns:\n",
    "    filtered_df = df[(df[selected_keyword] == 1) & (df[selected_additional_keyword] == 1)]\n",
    "    if not filtered_df.empty:\n",
    "        # データが取れているか確認\n",
    "        st.write(\"フィルタリングされたデータ:\")\n",
    "        st.dataframe(filtered_df)\n",
    "    else:\n",
    "        st.write(\"選択されたキーワードが含まれるデータがありません。\")\n",
    "else:\n",
    "    st.write(\"選択されたキーワードがデータに含まれていません。\")\n"
   ]
  },
  {
   "cell_type": "code",
   "execution_count": null,
   "metadata": {},
   "outputs": [],
   "source": []
  },
  {
   "cell_type": "code",
   "execution_count": null,
   "metadata": {},
   "outputs": [],
   "source": []
  },
  {
   "cell_type": "code",
   "execution_count": null,
   "metadata": {},
   "outputs": [],
   "source": []
  }
 ],
 "metadata": {
  "kernelspec": {
   "display_name": "base",
   "language": "python",
   "name": "python3"
  },
  "language_info": {
   "codemirror_mode": {
    "name": "ipython",
    "version": 3
   },
   "file_extension": ".py",
   "mimetype": "text/x-python",
   "name": "python",
   "nbconvert_exporter": "python",
   "pygments_lexer": "ipython3",
   "version": "3.10.9"
  }
 },
 "nbformat": 4,
 "nbformat_minor": 2
}
